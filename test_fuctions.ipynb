{
 "cells": [
  {
   "cell_type": "code",
   "execution_count": 3,
   "metadata": {},
   "outputs": [],
   "source": [
    "import numpy as np\n"
   ]
  },
  {
   "cell_type": "code",
   "execution_count": 50,
   "metadata": {},
   "outputs": [
    {
     "name": "stdout",
     "output_type": "stream",
     "text": [
      "[1 0 1 0 1 0 1 0] [1 1 1 1 0 0 0 0]\n",
      "[1 1 1 1 0 0 1 0] [1 0 1 0 1 0 0 0]\n"
     ]
    },
    {
     "data": {
      "text/plain": [
       "(array([1, 1, 1, 1, 0, 0, 1, 0]), array([1, 0, 1, 0, 1, 0, 0, 0]))"
      ]
     },
     "execution_count": 50,
     "metadata": {},
     "output_type": "execute_result"
    }
   ],
   "source": [
    "class Operations:\n",
    "    def __init__(self, rng):\n",
    "        self.rng = rng\n",
    "    def uni_crossover(self, ind1, ind2):\n",
    "\n",
    "        ind1 = np.array(ind1)\n",
    "        ind2 = np.array(ind2)\n",
    "        ind_temp = ind1.copy()\n",
    "        op = self.rng.choice([False, True], len(ind1))\n",
    "\n",
    "        for iterator, value in enumerate(op):\n",
    "            if value:\n",
    " \n",
    "                ind1[iterator]=ind2[iterator]\n",
    "                ind2[iterator]=ind_temp[iterator]\n",
    "\n",
    "        return ind1, ind2\n",
    "    \n",
    "    def result(self, X, y, e, Xcf, p, model):\n",
    "        \n",
    "        \n",
    "        return diff\n",
    "    \n",
    "\n",
    "operations = Operations(np.random.default_rng(883))\n",
    "operations.uni_crossover([1,0,1,0,1,0,1,0],\n",
    "                         [1,1,1,1,0,0,0,0])\n",
    "\n"
   ]
  },
  {
   "cell_type": "code",
   "execution_count": null,
   "metadata": {},
   "outputs": [],
   "source": []
  },
  {
   "cell_type": "code",
   "execution_count": null,
   "metadata": {},
   "outputs": [],
   "source": []
  },
  {
   "cell_type": "code",
   "execution_count": null,
   "metadata": {},
   "outputs": [],
   "source": []
  }
 ],
 "metadata": {
  "kernelspec": {
   "display_name": "base",
   "language": "python",
   "name": "python3"
  },
  "language_info": {
   "codemirror_mode": {
    "name": "ipython",
    "version": 3
   },
   "file_extension": ".py",
   "mimetype": "text/x-python",
   "name": "python",
   "nbconvert_exporter": "python",
   "pygments_lexer": "ipython3",
   "version": "3.9.13"
  },
  "orig_nbformat": 4
 },
 "nbformat": 4,
 "nbformat_minor": 2
}
